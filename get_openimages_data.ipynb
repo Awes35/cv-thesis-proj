{
 "cells": [
  {
   "attachments": {},
   "cell_type": "markdown",
   "metadata": {},
   "source": [
    "OVERALL WORKFLOW:\n",
    "\n",
    "Google open images dataset v7: https://storage.googleapis.com/openimages/web/factsfigures_v7.html\n",
    "Open images dataset v7 downloads: https://storage.googleapis.com/openimages/web/download_v7.html\n",
    "\n",
    "Python openimages lib: https://pypi.org/project/openimages/\n",
    "FiftyOne lib docs: https://docs.voxel51.com/user_guide/dataset_zoo/datasets.html#dataset-zoo-open-images-v7\n",
    "\n",
    "\n",
    "Roboflow PASCAL -> DARKNET format: https://blog.roboflow.com/how-to-convert-annotations-from-pascal-voc-to-yolo-darknet/\n"
   ]
  },
  {
   "attachments": {},
   "cell_type": "markdown",
   "metadata": {},
   "source": [
    "Get list of desired classes/labels for custom dataset: (from OpenImages)\n",
    "https://storage.googleapis.com/openimages/v5/class-descriptions-boxable.csv\n",
    "\n",
    "General floor things:\n",
    "Screwdriver, Wrench, Flashlight, Sock, Computer keyboard, Printer, Earrings, Tie, Suitcase, Coat, Suit, Computer mouse,  Hat,  Scarf, Tin can, Mug, Coffee cup, Office supplies, Paper towel, Skirt, Jacket,  Fashion accessory,  Mobile phone, Tennis ball, Telephone, Tool, Trousers, Handbag, Paper cutter, Clothing, Footwear, Waste container, Diaper, Dog bed, Umbrella\n",
    "\n",
    "Possible things:\n",
    "Power plugs and sockets? Juice? Harmonica?\n",
    "\n",
    "Food specific things:\n",
    "Food, Kitchen knife, Knife, Bowl, Plate, Pitcher (Container), Measuring cup, Fork, Serving tray, Drink, \n",
    "\n",
    "School specific things:\n",
    "Backpack, Scissors, Calculator, Stapler, Pencil case, Eraser, Adhesive tape, Ruler, Pen, Bottle, Envelope, Book, Laptop\n",
    "?? Headphones, Pencil sharpener, Ring binder\n",
    "\n",
    "Driving specific things:\n",
    "Person, Traffic sign, Bicycle, Motorcycle, Traffic light, Truck, Car, Bus, Vehicle, \n"
   ]
  },
  {
   "cell_type": "code",
   "execution_count": 8,
   "metadata": {},
   "outputs": [],
   "source": [
    "# Imports\n",
    "import fiftyone as fo\n",
    "import fiftyone.zoo as foz\n",
    "from fiftyone.utils.openimages import get_classes, get_segmentation_classes\n",
    "\n",
    "from openimages.download import download_dataset\n"
   ]
  },
  {
   "cell_type": "code",
   "execution_count": 15,
   "metadata": {},
   "outputs": [],
   "source": [
    "#Set fiftyone zoo dataset config for download location\n",
    "fo.config.dataset_zoo_dir = \"oi_schoolimgs_wseg\""
   ]
  },
  {
   "cell_type": "code",
   "execution_count": 10,
   "metadata": {},
   "outputs": [
    {
     "name": "stdout",
     "output_type": "stream",
     "text": [
      "Downloading 'https://storage.googleapis.com/openimages/v5/class-descriptions-boxable.csv' to '/var/folders/ss/7cmdk5rx3mzgg6j441ncz5m80000gn/T/tmpw94p5u7r/metadata/classes.csv'\n"
     ]
    },
    {
     "name": "stderr",
     "output_type": "stream",
     "text": [
      "2023-04-23  21:05:17 INFO Downloading 'https://storage.googleapis.com/openimages/v5/class-descriptions-boxable.csv' to '/var/folders/ss/7cmdk5rx3mzgg6j441ncz5m80000gn/T/tmpw94p5u7r/metadata/classes.csv'\n"
     ]
    },
    {
     "name": "stdout",
     "output_type": "stream",
     "text": [
      "Downloading 'https://storage.googleapis.com/openimages/v5/class-descriptions-boxable.csv' to '/var/folders/ss/7cmdk5rx3mzgg6j441ncz5m80000gn/T/tmp8uvk8gds/metadata/classes.csv'\n"
     ]
    },
    {
     "name": "stderr",
     "output_type": "stream",
     "text": [
      "2023-04-23  21:05:17 INFO Downloading 'https://storage.googleapis.com/openimages/v5/class-descriptions-boxable.csv' to '/var/folders/ss/7cmdk5rx3mzgg6j441ncz5m80000gn/T/tmp8uvk8gds/metadata/classes.csv'\n"
     ]
    },
    {
     "name": "stdout",
     "output_type": "stream",
     "text": [
      "Downloading 'https://storage.googleapis.com/openimages/v5/classes-segmentation.txt' to '/var/folders/ss/7cmdk5rx3mzgg6j441ncz5m80000gn/T/tmp8uvk8gds/metadata/segmentation_classes.csv'\n"
     ]
    },
    {
     "name": "stderr",
     "output_type": "stream",
     "text": [
      "2023-04-23  21:05:17 INFO Downloading 'https://storage.googleapis.com/openimages/v5/classes-segmentation.txt' to '/var/folders/ss/7cmdk5rx3mzgg6j441ncz5m80000gn/T/tmp8uvk8gds/metadata/segmentation_classes.csv'\n"
     ]
    }
   ],
   "source": [
    "#Analyze OpenImages v7 dataset \n",
    "\n",
    "oiv7_classes = get_classes(version=\"v7\")\n",
    "oiv7_segclasses = get_segmentation_classes(version=\"v7\")"
   ]
  },
  {
   "cell_type": "code",
   "execution_count": 11,
   "metadata": {},
   "outputs": [
    {
     "data": {
      "text/plain": [
       "[]"
      ]
     },
     "execution_count": 11,
     "metadata": {},
     "output_type": "execute_result"
    }
   ],
   "source": [
    "#define list of desired class labels\n",
    "school_item_classes = [\"Backpack\",  \"Scissors\", \"Calculator\",  \"Stapler\", \"Eraser\", \"Adhesive tape\", \"Pencil case\", \"Ruler\", \"Pen\", \"Envelope\", \"Book\", \"Laptop\"]\n",
    "\n",
    "[print(i) for i in school_item_classes if i not in oiv7_segclasses]\n",
    "#not_in_segclasses -- [\"Headphones\", \"Pencil sharpener\", \"Ring binder\"]"
   ]
  },
  {
   "attachments": {},
   "cell_type": "markdown",
   "metadata": {},
   "source": [
    "Retrieve school images from OpenImages (create custom dataset): #JUST BBOXES\n",
    "\n",
    "console call:\n",
    "oi_download_dataset --base_dir oi_schoolimgs --csv_dir oi_schoolimgs --labels Backpack Headphones Scissors Calculator \"Pencil sharpener\" Eraser \"Adhesive tape\" \"Pencil case\" \"Ring binder\" Ruler Pen --format darknet --limit 50"
   ]
  },
  {
   "cell_type": "code",
   "execution_count": 12,
   "metadata": {},
   "outputs": [
    {
     "name": "stderr",
     "output_type": "stream",
     "text": [
      "2023-04-23  21:06:19 INFO Downloading 99 train images for class 'backpack'\n",
      "100%|██████████| 99/99 [00:03<00:00, 29.04it/s]\n",
      "2023-04-23  21:06:22 INFO Creating 99 train annotations (darknet) for class 'backpack'\n",
      "100%|██████████| 99/99 [00:01<00:00, 74.33it/s]\n",
      "2023-04-23  21:06:24 INFO Downloading 100 train images for class 'scissors'\n",
      "100%|██████████| 100/100 [00:02<00:00, 34.80it/s]\n",
      "2023-04-23  21:06:27 INFO Creating 100 train annotations (darknet) for class 'scissors'\n",
      "100%|██████████| 100/100 [00:01<00:00, 76.09it/s]\n",
      "2023-04-23  21:06:29 INFO Downloading 76 train images for class 'calculator'\n",
      "100%|██████████| 76/76 [00:02<00:00, 33.60it/s]\n",
      "2023-04-23  21:06:31 INFO Creating 76 train annotations (darknet) for class 'calculator'\n",
      "100%|██████████| 76/76 [00:01<00:00, 58.27it/s]\n",
      "2023-04-23  21:06:33 INFO Downloading 33 train images for class 'stapler'\n",
      "100%|██████████| 33/33 [00:01<00:00, 17.42it/s]\n",
      "2023-04-23  21:06:35 INFO Creating 33 train annotations (darknet) for class 'stapler'\n",
      "100%|██████████| 33/33 [00:01<00:00, 25.78it/s]\n",
      "2023-04-23  21:06:37 INFO Downloading 19 train images for class 'eraser'\n",
      "100%|██████████| 19/19 [00:01<00:00, 14.00it/s]\n",
      "2023-04-23  21:06:39 INFO Creating 19 train annotations (darknet) for class 'eraser'\n",
      "100%|██████████| 19/19 [00:01<00:00, 15.76it/s]\n",
      "2023-04-23  21:06:40 INFO Downloading 50 train images for class 'adhesive tape'\n",
      "100%|██████████| 50/50 [00:02<00:00, 20.18it/s]\n",
      "2023-04-23  21:06:43 INFO Creating 50 train annotations (darknet) for class 'adhesive tape'\n",
      "100%|██████████| 50/50 [00:01<00:00, 39.49it/s]\n",
      "2023-04-23  21:06:45 INFO Downloading 68 train images for class 'pencil case'\n",
      "100%|██████████| 68/68 [00:03<00:00, 21.87it/s]\n",
      "2023-04-23  21:06:48 INFO Creating 68 train annotations (darknet) for class 'pencil case'\n",
      "100%|██████████| 68/68 [00:01<00:00, 54.69it/s]\n",
      "2023-04-23  21:06:50 INFO Downloading 22 train images for class 'ruler'\n",
      "100%|██████████| 22/22 [00:02<00:00,  9.19it/s]\n",
      "2023-04-23  21:06:52 INFO Creating 22 train annotations (darknet) for class 'ruler'\n",
      "100%|██████████| 22/22 [00:01<00:00, 17.29it/s]\n",
      "2023-04-23  21:06:54 INFO Downloading 100 train images for class 'pen'\n",
      "100%|██████████| 100/100 [00:03<00:00, 28.76it/s]\n",
      "2023-04-23  21:06:58 INFO Creating 100 train annotations (darknet) for class 'pen'\n",
      "100%|██████████| 100/100 [00:01<00:00, 80.71it/s]\n",
      "2023-04-23  21:07:00 INFO Downloading 37 train images for class 'envelope'\n",
      "100%|██████████| 37/37 [00:02<00:00, 14.94it/s]\n",
      "2023-04-23  21:07:02 INFO Creating 37 train annotations (darknet) for class 'envelope'\n",
      "100%|██████████| 37/37 [00:01<00:00, 29.54it/s]\n",
      "2023-04-23  21:07:04 INFO Downloading 100 train images for class 'book'\n",
      "100%|██████████| 100/100 [00:03<00:00, 32.70it/s]\n",
      "2023-04-23  21:07:07 INFO Creating 100 train annotations (darknet) for class 'book'\n",
      "100%|██████████| 100/100 [00:01<00:00, 82.25it/s]\n",
      "2023-04-23  21:07:09 INFO Downloading 100 train images for class 'laptop'\n",
      "100%|██████████| 100/100 [00:02<00:00, 34.51it/s]\n",
      "2023-04-23  21:07:12 INFO Creating 100 train annotations (darknet) for class 'laptop'\n",
      "100%|██████████| 100/100 [00:01<00:00, 78.07it/s]\n",
      "2023-04-23  21:07:16 INFO Downloading 1 validation images for class 'backpack'\n",
      "100%|██████████| 1/1 [00:00<00:00,  1.34it/s]\n",
      "2023-04-23  21:07:17 INFO Creating 1 validation annotations (darknet) for class 'backpack'\n",
      "100%|██████████| 1/1 [00:00<00:00,  1.75it/s]\n"
     ]
    },
    {
     "data": {
      "text/plain": [
       "{'backpack': {'images_dir': 'oi_schoolimgs/backpack/images',\n",
       "  'annotations_dir': 'oi_schoolimgs/backpack/darknet'},\n",
       " 'scissors': {'images_dir': 'oi_schoolimgs/scissors/images',\n",
       "  'annotations_dir': 'oi_schoolimgs/scissors/darknet'},\n",
       " 'calculator': {'images_dir': 'oi_schoolimgs/calculator/images',\n",
       "  'annotations_dir': 'oi_schoolimgs/calculator/darknet'},\n",
       " 'stapler': {'images_dir': 'oi_schoolimgs/stapler/images',\n",
       "  'annotations_dir': 'oi_schoolimgs/stapler/darknet'},\n",
       " 'eraser': {'images_dir': 'oi_schoolimgs/eraser/images',\n",
       "  'annotations_dir': 'oi_schoolimgs/eraser/darknet'},\n",
       " 'adhesive tape': {'images_dir': 'oi_schoolimgs/adhesive tape/images',\n",
       "  'annotations_dir': 'oi_schoolimgs/adhesive tape/darknet'},\n",
       " 'pencil case': {'images_dir': 'oi_schoolimgs/pencil case/images',\n",
       "  'annotations_dir': 'oi_schoolimgs/pencil case/darknet'},\n",
       " 'ruler': {'images_dir': 'oi_schoolimgs/ruler/images',\n",
       "  'annotations_dir': 'oi_schoolimgs/ruler/darknet'},\n",
       " 'pen': {'images_dir': 'oi_schoolimgs/pen/images',\n",
       "  'annotations_dir': 'oi_schoolimgs/pen/darknet'},\n",
       " 'envelope': {'images_dir': 'oi_schoolimgs/envelope/images',\n",
       "  'annotations_dir': 'oi_schoolimgs/envelope/darknet'},\n",
       " 'book': {'images_dir': 'oi_schoolimgs/book/images',\n",
       "  'annotations_dir': 'oi_schoolimgs/book/darknet'},\n",
       " 'laptop': {'images_dir': 'oi_schoolimgs/laptop/images',\n",
       "  'annotations_dir': 'oi_schoolimgs/laptop/darknet'}}"
      ]
     },
     "execution_count": 12,
     "metadata": {},
     "output_type": "execute_result"
    }
   ],
   "source": [
    "#Initial method to download BBoxes dataset for YOLO-Darknet format\n",
    "download_dataset(\"oi_schoolimgs\", school_item_classes, annotation_format=\"darknet\", csv_dir=\"oi_schoolimgs\", limit=100)"
   ]
  },
  {
   "cell_type": "code",
   "execution_count": 16,
   "metadata": {},
   "outputs": [
    {
     "name": "stdout",
     "output_type": "stream",
     "text": [
      "Downloading split 'validation' to 'oi_schoolimgs_wseg/open-images-v7/validation' if necessary\n"
     ]
    },
    {
     "name": "stderr",
     "output_type": "stream",
     "text": [
      "2023-04-23  21:16:24 INFO Downloading split 'validation' to 'oi_schoolimgs_wseg/open-images-v7/validation' if necessary\n"
     ]
    },
    {
     "name": "stdout",
     "output_type": "stream",
     "text": [
      "Downloading 'https://storage.googleapis.com/openimages/2018_04/validation/validation-images-with-rotation.csv' to 'oi_schoolimgs_wseg/open-images-v7/validation/metadata/image_ids.csv'\n"
     ]
    },
    {
     "name": "stderr",
     "output_type": "stream",
     "text": [
      "2023-04-23  21:16:24 INFO Downloading 'https://storage.googleapis.com/openimages/2018_04/validation/validation-images-with-rotation.csv' to 'oi_schoolimgs_wseg/open-images-v7/validation/metadata/image_ids.csv'\n"
     ]
    },
    {
     "name": "stdout",
     "output_type": "stream",
     "text": [
      "Downloading 'https://storage.googleapis.com/openimages/v5/class-descriptions-boxable.csv' to 'oi_schoolimgs_wseg/open-images-v7/validation/metadata/classes.csv'\n"
     ]
    },
    {
     "name": "stderr",
     "output_type": "stream",
     "text": [
      "2023-04-23  21:16:26 INFO Downloading 'https://storage.googleapis.com/openimages/v5/class-descriptions-boxable.csv' to 'oi_schoolimgs_wseg/open-images-v7/validation/metadata/classes.csv'\n"
     ]
    },
    {
     "name": "stdout",
     "output_type": "stream",
     "text": [
      "Downloading 'https://storage.googleapis.com/openimages/v5/classes-segmentation.txt' to 'oi_schoolimgs_wseg/open-images-v7/validation/metadata/segmentation_classes.csv'\n"
     ]
    },
    {
     "name": "stderr",
     "output_type": "stream",
     "text": [
      "2023-04-23  21:16:26 INFO Downloading 'https://storage.googleapis.com/openimages/v5/classes-segmentation.txt' to 'oi_schoolimgs_wseg/open-images-v7/validation/metadata/segmentation_classes.csv'\n"
     ]
    },
    {
     "name": "stdout",
     "output_type": "stream",
     "text": [
      "Downloading 'https://storage.googleapis.com/openimages/2018_04/bbox_labels_600_hierarchy.json' to '/var/folders/ss/7cmdk5rx3mzgg6j441ncz5m80000gn/T/tmpb924bb3s/metadata/hierarchy.json'\n"
     ]
    },
    {
     "name": "stderr",
     "output_type": "stream",
     "text": [
      "2023-04-23  21:16:27 INFO Downloading 'https://storage.googleapis.com/openimages/2018_04/bbox_labels_600_hierarchy.json' to '/var/folders/ss/7cmdk5rx3mzgg6j441ncz5m80000gn/T/tmpb924bb3s/metadata/hierarchy.json'\n"
     ]
    },
    {
     "name": "stdout",
     "output_type": "stream",
     "text": [
      "Downloading 'https://storage.googleapis.com/openimages/v5/validation-annotations-human-imagelabels-boxable.csv' to 'oi_schoolimgs_wseg/open-images-v7/validation/labels/classifications.csv'\n"
     ]
    },
    {
     "name": "stderr",
     "output_type": "stream",
     "text": [
      "2023-04-23  21:16:27 INFO Downloading 'https://storage.googleapis.com/openimages/v5/validation-annotations-human-imagelabels-boxable.csv' to 'oi_schoolimgs_wseg/open-images-v7/validation/labels/classifications.csv'\n"
     ]
    },
    {
     "name": "stdout",
     "output_type": "stream",
     "text": [
      "Downloading 'https://storage.googleapis.com/openimages/v5/validation-annotations-bbox.csv' to 'oi_schoolimgs_wseg/open-images-v7/validation/labels/detections.csv'\n"
     ]
    },
    {
     "name": "stderr",
     "output_type": "stream",
     "text": [
      "2023-04-23  21:16:29 INFO Downloading 'https://storage.googleapis.com/openimages/v5/validation-annotations-bbox.csv' to 'oi_schoolimgs_wseg/open-images-v7/validation/labels/detections.csv'\n"
     ]
    },
    {
     "name": "stdout",
     "output_type": "stream",
     "text": [
      "Downloading 'https://storage.googleapis.com/openimages/v5/validation-annotations-object-segmentation.csv' to 'oi_schoolimgs_wseg/open-images-v7/validation/labels/segmentations.csv'\n"
     ]
    },
    {
     "name": "stderr",
     "output_type": "stream",
     "text": [
      "2023-04-23  21:16:31 INFO Downloading 'https://storage.googleapis.com/openimages/v5/validation-annotations-object-segmentation.csv' to 'oi_schoolimgs_wseg/open-images-v7/validation/labels/segmentations.csv'\n"
     ]
    },
    {
     "name": "stdout",
     "output_type": "stream",
     "text": [
      "Only found 248 (<700) samples matching your requirements\n"
     ]
    },
    {
     "name": "stderr",
     "output_type": "stream",
     "text": [
      "2023-04-23  21:16:32 WARNING Only found 248 (<700) samples matching your requirements\n"
     ]
    },
    {
     "name": "stdout",
     "output_type": "stream",
     "text": [
      "Downloading 248 images\n"
     ]
    },
    {
     "name": "stderr",
     "output_type": "stream",
     "text": [
      "2023-04-23  21:16:55 INFO Downloading 248 images\n"
     ]
    },
    {
     "name": "stdout",
     "output_type": "stream",
     "text": [
      " 100% |███████████████████| 248/248 [7.4s elapsed, 0s remaining, 27.6 files/s]       \n"
     ]
    },
    {
     "name": "stderr",
     "output_type": "stream",
     "text": [
      "2023-04-23  21:17:02 INFO  100% |███████████████████| 248/248 [7.4s elapsed, 0s remaining, 27.6 files/s]       \n"
     ]
    },
    {
     "name": "stdout",
     "output_type": "stream",
     "text": [
      "Dataset info written to 'oi_schoolimgs_wseg/open-images-v7/info.json'\n"
     ]
    },
    {
     "name": "stderr",
     "output_type": "stream",
     "text": [
      "2023-04-23  21:17:02 INFO Dataset info written to 'oi_schoolimgs_wseg/open-images-v7/info.json'\n"
     ]
    },
    {
     "name": "stdout",
     "output_type": "stream",
     "text": [
      "Loading 'open-images-v7' split 'validation'\n"
     ]
    },
    {
     "name": "stderr",
     "output_type": "stream",
     "text": [
      "2023-04-23  21:17:02 INFO Loading 'open-images-v7' split 'validation'\n"
     ]
    },
    {
     "name": "stdout",
     "output_type": "stream",
     "text": [
      " 100% |█████████████████| 248/248 [17.2s elapsed, 0s remaining, 19.4 samples/s]      \n"
     ]
    },
    {
     "name": "stderr",
     "output_type": "stream",
     "text": [
      "2023-04-23  21:17:21 INFO  100% |█████████████████| 248/248 [17.2s elapsed, 0s remaining, 19.4 samples/s]      \n"
     ]
    },
    {
     "name": "stdout",
     "output_type": "stream",
     "text": [
      "Dataset 'open-images-v7-validation-700' created\n"
     ]
    },
    {
     "name": "stderr",
     "output_type": "stream",
     "text": [
      "2023-04-23  21:17:21 INFO Dataset 'open-images-v7-validation-700' created\n"
     ]
    }
   ],
   "source": [
    "#Load datasets from Fiftyone Zoo\n",
    "dataset = foz.load_zoo_dataset(\n",
    "    \"open-images-v7\",\n",
    "    split=\"validation\", #OpenImagesv7 validation split = 41,620 images (12GB)\n",
    "    label_types=[\"classifications\", \"detections\", \"segmentations\"],\n",
    "    classes = school_item_classes,\n",
    "    max_samples=700\n",
    ")"
   ]
  },
  {
   "cell_type": "code",
   "execution_count": null,
   "metadata": {},
   "outputs": [],
   "source": [
    "session = fo.launch_app(dataset)"
   ]
  }
 ],
 "metadata": {
  "kernelspec": {
   "display_name": ".venv",
   "language": "python",
   "name": "python3"
  },
  "language_info": {
   "codemirror_mode": {
    "name": "ipython",
    "version": 3
   },
   "file_extension": ".py",
   "mimetype": "text/x-python",
   "name": "python",
   "nbconvert_exporter": "python",
   "pygments_lexer": "ipython3",
   "version": "3.10.7"
  },
  "orig_nbformat": 4
 },
 "nbformat": 4,
 "nbformat_minor": 2
}
