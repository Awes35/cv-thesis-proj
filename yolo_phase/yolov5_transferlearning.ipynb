{
 "cells": [
  {
   "attachments": {},
   "cell_type": "markdown",
   "metadata": {},
   "source": [
    "Original yolov5 TL article: https://kikaben.com/yolov5-transfer-learning-dogs-cats/\n",
    "Yolov5 mask-wearing: https://towardsdatascience.com/mask-detection-using-yolov5-ae40979227a6\n",
    "\n",
    "Yolov5 model github: https://github.com/ultralytics/yolov5\n",
    "\n",
    "Yolov5 transfer learning doc: https://docs.ultralytics.com/yolov5/tutorials/train_custom_data/#11-create-datasetyaml\n",
    "\n",
    "\n",
    "Yolov5 instance segmentation TL: https://learnopencv.com/yolov5-instance-segmentation/\n",
    "Yolov5 github segmentation section: https://github.com/ultralytics/yolov5#segmentation"
   ]
  },
  {
   "cell_type": "code",
   "execution_count": 1,
   "metadata": {},
   "outputs": [],
   "source": [
    "from PIL import Image, ImageDraw\n",
    "import os\n",
    "import glob\n",
    "import numpy as np\n",
    "import shutil"
   ]
  },
  {
   "cell_type": "code",
   "execution_count": 2,
   "metadata": {},
   "outputs": [
    {
     "data": {
      "text/plain": [
       "['backpack',\n",
       " 'scissors',\n",
       " 'calculator',\n",
       " 'stapler',\n",
       " 'eraser',\n",
       " 'adhesive tape',\n",
       " 'pencil case',\n",
       " 'ruler',\n",
       " 'pen',\n",
       " 'envelope',\n",
       " 'book',\n",
       " 'laptop']"
      ]
     },
     "execution_count": 2,
     "metadata": {},
     "output_type": "execute_result"
    }
   ],
   "source": [
    "#read in all item classes\n",
    "class_file = open(\"oi_schoolimgs/darknet_obj_names.txt\", \"r\")\n",
    "classes = class_file.read()\n",
    "classes = classes.split('\\n') #convert to list\n",
    "classes = classes[:-1] #drop empty last element\n",
    "classes"
   ]
  },
  {
   "cell_type": "code",
   "execution_count": null,
   "metadata": {},
   "outputs": [],
   "source": [
    "#Data pre-processing\n",
    "# Final??\n",
    "def show_bbox(image_path):\n",
    "    # convert image path to label path\n",
    "    label_path = image_path.replace('/images/', '/darknet/')\n",
    "    label_path = label_path.replace('.jpg', '.txt')\n",
    "\n",
    "    # Open the image and create ImageDraw object for drawing\n",
    "    image = Image.open(image_path)\n",
    "    draw = ImageDraw.Draw(image)\n",
    "\n",
    "    with open(label_path, 'r') as f:\n",
    "        for line in f.readlines():\n",
    "            # Split the line into five values\n",
    "            label, x, y, w, h = line.split(' ')\n",
    "\n",
    "            # Convert string into float\n",
    "            x = float(x)\n",
    "            y = float(y)\n",
    "            w = float(w)\n",
    "            h = float(h)\n",
    "\n",
    "            # Convert center position, width, height into\n",
    "            # top-left and bottom-right coordinates\n",
    "            W, H = image.size\n",
    "            x1 = (x - w/2) * W\n",
    "            y1 = (y - h/2) * H\n",
    "            x2 = (x + w/2) * W\n",
    "            y2 = (y + h/2) * H\n",
    "\n",
    "            # Draw the bounding box with red lines\n",
    "            draw.rectangle((x1, y1, x2, y2),\n",
    "                           outline=(255, 0, 0), # Red in RGB\n",
    "                           width=5)             # Line width\n",
    "    image.show()\n",
    "    \n",
    "\n",
    "#Test display an image with BBox(es)\n",
    "show_bbox('oi_schoolimgs/images/train/0a0df46ca3f886c9.jpg')\n"
   ]
  },
  {
   "cell_type": "code",
   "execution_count": 3,
   "metadata": {},
   "outputs": [],
   "source": [
    "#Re-structure data folders\n",
    "\n",
    "# Create a folder structure for YOLOv5 training\n",
    "if not os.path.exists('data'):\n",
    "    for folder in ['images', 'labels']:\n",
    "        for split in ['train', 'val', 'test']:\n",
    "            os.makedirs(f'data/{folder}/{split}')\n",
    "\n"
   ]
  },
  {
   "cell_type": "code",
   "execution_count": 4,
   "metadata": {},
   "outputs": [],
   "source": [
    "#Check for duplicates in same downloaded folder\n",
    "def get_filenames(folder):\n",
    "    filenames = set()\n",
    "    \n",
    "    for path in glob.glob(os.path.join(folder, '*.jpg')):\n",
    "        # Extract the filename\n",
    "        filename = os.path.split(path)[-1]        \n",
    "        filenames.add(filename)\n",
    "\n",
    "    return filenames\n",
    "\n",
    "\n",
    "classes_imgs_dict = dict()\n",
    "for cls in classes:\n",
    "    classes_imgs_dict[cls] = get_filenames(f\"oi_schoolimgs/{cls}/images\")\n",
    "\n",
    "imgs_cnts = dict()\n",
    "for cls in classes_imgs_dict.keys():\n",
    "    for img in classes_imgs_dict[cls]:\n",
    "        if img not in imgs_cnts.keys():\n",
    "            imgs_cnts[img] = (1, [cls])\n",
    "        else:\n",
    "            imgs_cnts[img] = (imgs_cnts[img][0]+1, imgs_cnts[img][1]+[cls])\n"
   ]
  },
  {
   "cell_type": "code",
   "execution_count": 5,
   "metadata": {},
   "outputs": [
    {
     "data": {
      "text/plain": [
       "[('008b7daf18c2bd65.jpg', (2, ['pen', 'laptop']))]"
      ]
     },
     "execution_count": 5,
     "metadata": {},
     "output_type": "execute_result"
    }
   ],
   "source": [
    "# Check for duplicates\n",
    "[i for i in imgs_cnts.items() if i[1][0]>1]"
   ]
  },
  {
   "cell_type": "code",
   "execution_count": 6,
   "metadata": {},
   "outputs": [],
   "source": [
    "#Drop duplicates\n",
    "classes_imgs_dict['pen'] -= {'008b7daf18c2bd65.jpg'}\n",
    "classes_imgs_dict['laptop'] -= {'008b7daf18c2bd65.jpg'}"
   ]
  },
  {
   "cell_type": "code",
   "execution_count": 7,
   "metadata": {},
   "outputs": [],
   "source": [
    "#Shuffle randomly all the files (with fixed seed)\n",
    "np.random.seed(1337)\n",
    "\n",
    "for cls in classes_imgs_dict.keys():\n",
    "    temp_ary = np.array(list(classes_imgs_dict[cls]))\n",
    "    np.random.shuffle(temp_ary)\n",
    "    temp_ary\n",
    "    classes_imgs_dict[cls] = temp_ary\n"
   ]
  },
  {
   "cell_type": "code",
   "execution_count": 8,
   "metadata": {},
   "outputs": [],
   "source": [
    "#Copy image files to new directory structure for Transfer Learning (in YOLO expected structure)\n",
    "def split_dataset(cls, train_pct=0.8, val_pct=0.1, download_dir='oi_schoolimgs'):\n",
    "    cls_imgs = classes_imgs_dict[cls]\n",
    "    cls_img_cnt = len(cls_imgs)\n",
    "    \n",
    "    train_size = round(train_pct * cls_img_cnt)\n",
    "    val_size = round(val_pct * cls_img_cnt)\n",
    "\n",
    "    for num, img_nm in enumerate(cls_imgs):\n",
    "        lbl_nm = img_nm.replace('.jpg', '.txt')\n",
    "        \n",
    "        # Split into train, val, or test\n",
    "        if num < train_size:\n",
    "            split = 'train'\n",
    "        elif num < train_size + val_size:\n",
    "            split = 'val'\n",
    "        else:\n",
    "            split = 'test'\n",
    "        \n",
    "        # Source paths\n",
    "        source_image_path = f'{download_dir}/{cls}/images/{img_nm}'\n",
    "        source_label_path = f'{download_dir}/{cls}/darknet/{lbl_nm}'\n",
    "\n",
    "        # Destination paths\n",
    "        target_image_folder = f'data/images/{split}'\n",
    "        target_label_folder = f'data/labels/{split}'\n",
    "\n",
    "        # Copy files\n",
    "        shutil.copy(source_image_path, target_image_folder)\n",
    "        shutil.copy(source_label_path, target_label_folder)\n",
    "\n",
    "#Call function for each class\n",
    "for c in classes:\n",
    "    split_dataset(c)"
   ]
  }
 ],
 "metadata": {
  "kernelspec": {
   "display_name": ".venv",
   "language": "python",
   "name": "python3"
  },
  "language_info": {
   "codemirror_mode": {
    "name": "ipython",
    "version": 3
   },
   "file_extension": ".py",
   "mimetype": "text/x-python",
   "name": "python",
   "nbconvert_exporter": "python",
   "pygments_lexer": "ipython3",
   "version": "3.10.7"
  },
  "orig_nbformat": 4
 },
 "nbformat": 4,
 "nbformat_minor": 2
}
